{
 "cells": [
  {
   "cell_type": "code",
   "execution_count": 1,
   "metadata": {},
   "outputs": [],
   "source": [
    "#Import Libraries\n",
    "import os\n",
    "import pathlib\n",
    "import earthpy.earthexplorer as etee\n",
    "import earthpy.appeears as etapp\n",
    "import earthpy as et\n",
    "import geopandas as gpd\n",
    "import requests\n",
    "import zipfile\n",
    "import io\n",
    "import matplotlib.pyplot as plt"
   ]
  },
  {
   "cell_type": "code",
   "execution_count": 2,
   "metadata": {},
   "outputs": [
    {
     "name": "stdout",
     "output_type": "stream",
     "text": [
      "/home/jovyan/final/data\n"
     ]
    }
   ],
   "source": [
    "# Create directory et.io.HOME\n",
    "data_dir = os.path.join(et.io.HOME, 'final','data')\n",
    "print(data_dir)\n"
   ]
  },
  {
   "cell_type": "code",
   "execution_count": 3,
   "metadata": {},
   "outputs": [
    {
     "name": "stdout",
     "output_type": "stream",
     "text": [
      "Downloading shapefile...\n"
     ]
    },
    {
     "name": "stdout",
     "output_type": "stream",
     "text": [
      "Done\n"
     ]
    }
   ],
   "source": [
    "# Code adapted from: https://medium.com/@loldja/reading-shapefile-zips-from-a-url-in-python-3-93ea8d727856\n",
    "# Create directory\n",
    "grassland_url = 'https://data.fs.usda.gov/geodata/edw/edw_resources/shp/S_USA.NationalGrassland.zip'\n",
    "print('Downloading shapefile...')\n",
    "# Request data from url\n",
    "grassland_request = requests.get(grassland_url)\n",
    "grassland_zip = zipfile.ZipFile(io.BytesIO(grassland_request.content))\n",
    "print(\"Done\")\n",
    "# Extract files from Zip to \n",
    "grassland_zip.extractall(path=os.path.join(data_dir, 'national-grassland'))\n",
    "# filenames = [y for y in sorted(grassland_zip.namelist()) for ending in ['dbf', 'prj', 'shp', 'shx'] if y.endswith(ending)] \n",
    "# print(filenames)\n",
    "\n"
   ]
  },
  {
   "cell_type": "code",
   "execution_count": 4,
   "metadata": {},
   "outputs": [
    {
     "data": {
      "text/html": [
       "<div>\n",
       "<style scoped>\n",
       "    .dataframe tbody tr th:only-of-type {\n",
       "        vertical-align: middle;\n",
       "    }\n",
       "\n",
       "    .dataframe tbody tr th {\n",
       "        vertical-align: top;\n",
       "    }\n",
       "\n",
       "    .dataframe thead th {\n",
       "        text-align: right;\n",
       "    }\n",
       "</style>\n",
       "<table border=\"1\" class=\"dataframe\">\n",
       "  <thead>\n",
       "    <tr style=\"text-align: right;\">\n",
       "      <th></th>\n",
       "      <th>NATIONALGR</th>\n",
       "      <th>GIS_ACRES</th>\n",
       "      <th>SHAPE_AREA</th>\n",
       "      <th>SHAPE_LEN</th>\n",
       "      <th>geometry</th>\n",
       "    </tr>\n",
       "    <tr>\n",
       "      <th>GRASSLANDN</th>\n",
       "      <th></th>\n",
       "      <th></th>\n",
       "      <th></th>\n",
       "      <th></th>\n",
       "      <th></th>\n",
       "    </tr>\n",
       "  </thead>\n",
       "  <tbody>\n",
       "    <tr>\n",
       "      <th>Comanche National Grassland</th>\n",
       "      <td>295522010328</td>\n",
       "      <td>444413.904</td>\n",
       "      <td>0.183064</td>\n",
       "      <td>26.658022</td>\n",
       "      <td>MULTIPOLYGON (((-104.02263 37.69224, -104.0225...</td>\n",
       "    </tr>\n",
       "    <tr>\n",
       "      <th>Pawnee National Grassland</th>\n",
       "      <td>295523010328</td>\n",
       "      <td>208424.885</td>\n",
       "      <td>0.089972</td>\n",
       "      <td>15.341594</td>\n",
       "      <td>MULTIPOLYGON (((-104.58106 40.82664, -104.5810...</td>\n",
       "    </tr>\n",
       "  </tbody>\n",
       "</table>\n",
       "</div>"
      ],
      "text/plain": [
       "                               NATIONALGR   GIS_ACRES  SHAPE_AREA  SHAPE_LEN  \\\n",
       "GRASSLANDN                                                                     \n",
       "Comanche National Grassland  295522010328  444413.904    0.183064  26.658022   \n",
       "Pawnee National Grassland    295523010328  208424.885    0.089972  15.341594   \n",
       "\n",
       "                                                                      geometry  \n",
       "GRASSLANDN                                                                      \n",
       "Comanche National Grassland  MULTIPOLYGON (((-104.02263 37.69224, -104.0225...  \n",
       "Pawnee National Grassland    MULTIPOLYGON (((-104.58106 40.82664, -104.5810...  "
      ]
     },
     "execution_count": 4,
     "metadata": {},
     "output_type": "execute_result"
    }
   ],
   "source": [
    "# Import shapefile\n",
    "grassland_gdf = gpd.read_file(os.path.join(data_dir, 'national-grassland', 'S_USA.NationalGrassland.shp'))\n",
    "select_grassland_gdf = (\n",
    "    grassland_gdf\n",
    "    .set_index('GRASSLANDN')\n",
    "    .loc[['Comanche National Grassland', 'Pawnee National Grassland']]\n",
    ")\n",
    "select_grassland_gdf"
   ]
  },
  {
   "cell_type": "code",
   "execution_count": null,
   "metadata": {},
   "outputs": [],
   "source": [
    "# Get Polaris Data\n",
    "POLARIS dataset\n",
    "\n",
    "# https://github.com/njadid/Polaris_Processor"
   ]
  },
  {
   "cell_type": "code",
   "execution_count": 5,
   "metadata": {},
   "outputs": [],
   "source": [
    "select_grassland_gdf\n",
    "\n",
    "select_grassland_gdf = select_grassland_gdf.to_crs(4326)"
   ]
  },
  {
   "cell_type": "code",
   "execution_count": 9,
   "metadata": {},
   "outputs": [
    {
     "name": "stdout",
     "output_type": "stream",
     "text": [
      "Site Name: Caddo National Grassland\n",
      "Login Successful.\n",
      "Searching datasets...\n"
     ]
    },
    {
     "ename": "TypeError",
     "evalue": "object of type 'NoneType' has no len()",
     "output_type": "error",
     "traceback": [
      "\u001b[0;31m---------------------------------------------------------------------------\u001b[0m",
      "\u001b[0;31mTypeError\u001b[0m                                 Traceback (most recent call last)",
      "\u001b[1;32m/workspaces/pth6570.github.io/notebooks/final.ipynb Cell 7\u001b[0m line \u001b[0;36m4\n\u001b[1;32m     <a href='vscode-notebook-cell://codespaces%2Bjubilant-funicular-jj596r97xr7r35w7g/workspaces/pth6570.github.io/notebooks/final.ipynb#W5sdnNjb2RlLXJlbW90ZQ%3D%3D?line=41'>42</a>\u001b[0m \u001b[39m# Run to test\u001b[39;00m\n\u001b[1;32m     <a href='vscode-notebook-cell://codespaces%2Bjubilant-funicular-jj596r97xr7r35w7g/workspaces/pth6570.github.io/notebooks/final.ipynb#W5sdnNjb2RlLXJlbW90ZQ%3D%3D?line=42'>43</a>\u001b[0m \u001b[39mfor\u001b[39;00m site_name, details \u001b[39min\u001b[39;00m select_grassland_gdf\u001b[39m.\u001b[39miterrows():\n\u001b[0;32m---> <a href='vscode-notebook-cell://codespaces%2Bjubilant-funicular-jj596r97xr7r35w7g/workspaces/pth6570.github.io/notebooks/final.ipynb#W5sdnNjb2RlLXJlbW90ZQ%3D%3D?line=43'>44</a>\u001b[0m   downloader \u001b[39m=\u001b[39m download_polaris(\n\u001b[1;32m     <a href='vscode-notebook-cell://codespaces%2Bjubilant-funicular-jj596r97xr7r35w7g/workspaces/pth6570.github.io/notebooks/final.ipynb#W5sdnNjb2RlLXJlbW90ZQ%3D%3D?line=44'>45</a>\u001b[0m      site_name, details\u001b[39m.\u001b[39;49mgeometry, \u001b[39m'\u001b[39;49m\u001b[39m2022-01-01\u001b[39;49m\u001b[39m'\u001b[39;49m, \u001b[39m'\u001b[39;49m\u001b[39m2022-12-31\u001b[39;49m\u001b[39m'\u001b[39;49m)\n",
      "\u001b[1;32m/workspaces/pth6570.github.io/notebooks/final.ipynb Cell 7\u001b[0m line \u001b[0;36m3\n\u001b[1;32m     <a href='vscode-notebook-cell://codespaces%2Bjubilant-funicular-jj596r97xr7r35w7g/workspaces/pth6570.github.io/notebooks/final.ipynb#W5sdnNjb2RlLXJlbW90ZQ%3D%3D?line=29'>30</a>\u001b[0m naip_downloader \u001b[39m=\u001b[39m etee\u001b[39m.\u001b[39mEarthExplorerDownloader(\n\u001b[1;32m     <a href='vscode-notebook-cell://codespaces%2Bjubilant-funicular-jj596r97xr7r35w7g/workspaces/pth6570.github.io/notebooks/final.ipynb#W5sdnNjb2RlLXJlbW90ZQ%3D%3D?line=30'>31</a>\u001b[0m     dataset\u001b[39m=\u001b[39m\u001b[39m\"\u001b[39m\u001b[39mPolaris\u001b[39m\u001b[39m\"\u001b[39m, \n\u001b[1;32m     <a href='vscode-notebook-cell://codespaces%2Bjubilant-funicular-jj596r97xr7r35w7g/workspaces/pth6570.github.io/notebooks/final.ipynb#W5sdnNjb2RlLXJlbW90ZQ%3D%3D?line=31'>32</a>\u001b[0m     label\u001b[39m=\u001b[39mname\u001b[39m.\u001b[39mlower()\u001b[39m.\u001b[39mreplace(\u001b[39m\"\u001b[39m\u001b[39m \u001b[39m\u001b[39m\"\u001b[39m, \u001b[39m\"\u001b[39m\u001b[39m-\u001b[39m\u001b[39m\"\u001b[39m),\n\u001b[0;32m   (...)\u001b[0m\n\u001b[1;32m     <a href='vscode-notebook-cell://codespaces%2Bjubilant-funicular-jj596r97xr7r35w7g/workspaces/pth6570.github.io/notebooks/final.ipynb#W5sdnNjb2RlLXJlbW90ZQ%3D%3D?line=34'>35</a>\u001b[0m     end\u001b[39m=\u001b[39mend,\n\u001b[1;32m     <a href='vscode-notebook-cell://codespaces%2Bjubilant-funicular-jj596r97xr7r35w7g/workspaces/pth6570.github.io/notebooks/final.ipynb#W5sdnNjb2RlLXJlbW90ZQ%3D%3D?line=35'>36</a>\u001b[0m     store_credential\u001b[39m=\u001b[39m\u001b[39mTrue\u001b[39;00m)\n\u001b[1;32m     <a href='vscode-notebook-cell://codespaces%2Bjubilant-funicular-jj596r97xr7r35w7g/workspaces/pth6570.github.io/notebooks/final.ipynb#W5sdnNjb2RlLXJlbW90ZQ%3D%3D?line=36'>37</a>\u001b[0m \u001b[39m# Request and download data\u001b[39;00m\n\u001b[0;32m---> <a href='vscode-notebook-cell://codespaces%2Bjubilant-funicular-jj596r97xr7r35w7g/workspaces/pth6570.github.io/notebooks/final.ipynb#W5sdnNjb2RlLXJlbW90ZQ%3D%3D?line=37'>38</a>\u001b[0m naip_downloader\u001b[39m.\u001b[39;49msubmit_download_request()\n\u001b[1;32m     <a href='vscode-notebook-cell://codespaces%2Bjubilant-funicular-jj596r97xr7r35w7g/workspaces/pth6570.github.io/notebooks/final.ipynb#W5sdnNjb2RlLXJlbW90ZQ%3D%3D?line=38'>39</a>\u001b[0m naip_downloader\u001b[39m.\u001b[39mdownload(override\u001b[39m=\u001b[39m\u001b[39mFalse\u001b[39;00m)\n\u001b[1;32m     <a href='vscode-notebook-cell://codespaces%2Bjubilant-funicular-jj596r97xr7r35w7g/workspaces/pth6570.github.io/notebooks/final.ipynb#W5sdnNjb2RlLXJlbW90ZQ%3D%3D?line=39'>40</a>\u001b[0m \u001b[39mreturn\u001b[39;00m naip_downloader\n",
      "File \u001b[0;32m/opt/conda/lib/python3.10/site-packages/earthpy/earthexplorer.py:222\u001b[0m, in \u001b[0;36mEarthExplorerDownloader.submit_download_request\u001b[0;34m(self)\u001b[0m\n\u001b[1;32m    221\u001b[0m \u001b[39mdef\u001b[39;00m \u001b[39msubmit_download_request\u001b[39m(\u001b[39mself\u001b[39m):\n\u001b[0;32m--> 222\u001b[0m     product_info \u001b[39m=\u001b[39m \u001b[39mself\u001b[39;49m\u001b[39m.\u001b[39;49mfind_available_product_info()\n\u001b[1;32m    223\u001b[0m     \u001b[39m# Did we find products?\u001b[39;00m\n\u001b[1;32m    224\u001b[0m     \u001b[39mif\u001b[39;00m product_info:\n\u001b[1;32m    225\u001b[0m         \u001b[39m# Request downloads\u001b[39;00m\n",
      "File \u001b[0;32m/opt/conda/lib/python3.10/site-packages/earthpy/earthexplorer.py:198\u001b[0m, in \u001b[0;36mEarthExplorerDownloader.find_available_product_info\u001b[0;34m(self)\u001b[0m\n\u001b[1;32m    197\u001b[0m \u001b[39mdef\u001b[39;00m \u001b[39mfind_available_product_info\u001b[39m(\u001b[39mself\u001b[39m):\n\u001b[0;32m--> 198\u001b[0m     scenes \u001b[39m=\u001b[39m \u001b[39mself\u001b[39;49m\u001b[39m.\u001b[39;49mfind_scene_ids()\n\u001b[1;32m    199\u001b[0m     params \u001b[39m=\u001b[39m {\n\u001b[1;32m    200\u001b[0m         \u001b[39m'\u001b[39m\u001b[39mdatasetName\u001b[39m\u001b[39m'\u001b[39m: \u001b[39mself\u001b[39m\u001b[39m.\u001b[39mdataset_alias, \n\u001b[1;32m    201\u001b[0m         \u001b[39m'\u001b[39m\u001b[39mentityIds\u001b[39m\u001b[39m'\u001b[39m: [scene[\u001b[39m'\u001b[39m\u001b[39mentityId\u001b[39m\u001b[39m'\u001b[39m] \u001b[39mfor\u001b[39;00m scene \u001b[39min\u001b[39;00m scenes[\u001b[39m'\u001b[39m\u001b[39mresults\u001b[39m\u001b[39m'\u001b[39m]]}\n\u001b[1;32m    202\u001b[0m     products \u001b[39m=\u001b[39m \u001b[39mself\u001b[39m\u001b[39m.\u001b[39mpost(\u001b[39m\"\u001b[39m\u001b[39mdownload-options\u001b[39m\u001b[39m\"\u001b[39m, params)\n",
      "File \u001b[0;32m/opt/conda/lib/python3.10/site-packages/earthpy/earthexplorer.py:185\u001b[0m, in \u001b[0;36mEarthExplorerDownloader.find_scene_ids\u001b[0;34m(self)\u001b[0m\n\u001b[1;32m    183\u001b[0m \u001b[39mdef\u001b[39;00m \u001b[39mfind_scene_ids\u001b[39m(\u001b[39mself\u001b[39m):\n\u001b[1;32m    184\u001b[0m     params \u001b[39m=\u001b[39m {\n\u001b[0;32m--> 185\u001b[0m         \u001b[39m'\u001b[39m\u001b[39mdatasetName\u001b[39m\u001b[39m'\u001b[39m: \u001b[39mself\u001b[39;49m\u001b[39m.\u001b[39;49mdataset_alias,\n\u001b[1;32m    186\u001b[0m         \u001b[39m'\u001b[39m\u001b[39mstartingNumber\u001b[39m\u001b[39m'\u001b[39m: \u001b[39m1\u001b[39m,\n\u001b[1;32m    187\u001b[0m         \n\u001b[1;32m    188\u001b[0m         \u001b[39m'\u001b[39m\u001b[39msceneFilter\u001b[39m\u001b[39m'\u001b[39m: {\n\u001b[1;32m    189\u001b[0m             \u001b[39m'\u001b[39m\u001b[39mspatialFilter\u001b[39m\u001b[39m'\u001b[39m: \u001b[39mself\u001b[39m\u001b[39m.\u001b[39mbbox\u001b[39m.\u001b[39mspatial_filter,\n\u001b[1;32m    190\u001b[0m             \u001b[39m'\u001b[39m\u001b[39macquisitionFilter\u001b[39m\u001b[39m'\u001b[39m: \u001b[39mself\u001b[39m\u001b[39m.\u001b[39macquisition_filter}}\n\u001b[1;32m    192\u001b[0m     \u001b[39mprint\u001b[39m(\u001b[39m\"\u001b[39m\u001b[39mSearching scenes...\u001b[39m\u001b[39m\"\u001b[39m)\n\u001b[1;32m    193\u001b[0m     scenes \u001b[39m=\u001b[39m \u001b[39mself\u001b[39m\u001b[39m.\u001b[39mpost(\u001b[39m\"\u001b[39m\u001b[39mscene-search\u001b[39m\u001b[39m\"\u001b[39m, params)\n",
      "File \u001b[0;32m/opt/conda/lib/python3.10/site-packages/earthpy/earthexplorer.py:175\u001b[0m, in \u001b[0;36mEarthExplorerDownloader.dataset_alias\u001b[0;34m(self)\u001b[0m\n\u001b[1;32m    172\u001b[0m datasets \u001b[39m=\u001b[39m \u001b[39mself\u001b[39m\u001b[39m.\u001b[39mpost(\u001b[39m\"\u001b[39m\u001b[39mdataset-search\u001b[39m\u001b[39m\"\u001b[39m, params)\n\u001b[1;32m    174\u001b[0m \u001b[39m# Get a single dataset alias\u001b[39;00m\n\u001b[0;32m--> 175\u001b[0m \u001b[39mif\u001b[39;00m \u001b[39mlen\u001b[39;49m(datasets) \u001b[39m>\u001b[39m \u001b[39m1\u001b[39m:\n\u001b[1;32m    176\u001b[0m     \u001b[39mprint\u001b[39m(datasets)\n\u001b[1;32m    177\u001b[0m     \u001b[39mraise\u001b[39;00m \u001b[39mValueError\u001b[39;00m(\u001b[39m'\u001b[39m\u001b[39mMultiple datasets found - refine search.\u001b[39m\u001b[39m'\u001b[39m)\n",
      "\u001b[0;31mTypeError\u001b[0m: object of type 'NoneType' has no len()"
     ]
    }
   ],
   "source": [
    "# https://github.com/njadid/Polaris_Processor?\n",
    "\n",
    "def download_polaris(name, geometry, start, end):\n",
    "    \"\"\"\n",
    "    Download NAIP raster for a given geometry, start date, and end date\n",
    "\n",
    "    Downloads data from the National Agricultural Imagery Program (NAIP)\n",
    "    given a spatial and temporal extent.\n",
    "    <citation>\n",
    "\n",
    "    Parameters\n",
    "    ==========\n",
    "    name : str\n",
    "      The name used to label the download\n",
    "    geometry : shapely.POLYGON\n",
    "      The geometry to derive the download extent from. \n",
    "      Must have a `.bounds` attribute.\n",
    "    start : str\n",
    "      The start date as 'YYYY-MM-DD'\n",
    "    end : str\n",
    "      The end date as 'YYYY-MM-DD'\n",
    "\n",
    "    Returns\n",
    "    =======\n",
    "    downloader : earthpy.earthexplorer.EarthExplorerDownloader\n",
    "      Object with information about the download, including the data directory.\n",
    "    \"\"\"\n",
    "    print(f'Site Name: {name}')\n",
    "    # Create bounding box\n",
    "    bbox = etee.BBox(*geometry.bounds)\n",
    "    # Create downloader\n",
    "    naip_downloader = etee.EarthExplorerDownloader(\n",
    "        dataset=\"Polaris\", \n",
    "        label=name.lower().replace(\" \", \"-\"),\n",
    "        bbox=bbox,\n",
    "        start=start,\n",
    "        end=end,\n",
    "        store_credential=True)\n",
    "    # Request and download data\n",
    "    naip_downloader.submit_download_request()\n",
    "    naip_downloader.download(override=False)\n",
    "    return naip_downloader\n",
    "\n",
    "# Run to test\n",
    "for site_name, details in select_grassland_gdf.iterrows():\n",
    "  downloader = download_polaris(\n",
    "     site_name, details.geometry, '2022-01-01', '2022-12-31')"
   ]
  },
  {
   "cell_type": "code",
   "execution_count": 13,
   "metadata": {},
   "outputs": [],
   "source": [
    "# https://lpdaac.usgs.gov/products/srtmgl1v003/\n",
    "# https://appeears.earthdatacloud.nasa.gov/api/#temporary-s3-credentials\n",
    "# https://appeears.earthdatacloud.nasa.gov/products\n",
    "# https://lpdaac.usgs.gov/resources/e-learning/getting-started-with-the-a%CF%81%CF%81eears-api-submitting-and-downloading-an-area-request/\n",
    "\n",
    "# Download Elevation Data Using Appeears\n",
    "elevation_downloader = etapp.AppeearsDownloader(\n",
    "    download_key=\"retry3\",\n",
    "    ea_dir=data_dir,\n",
    "    product=\"SRTMGL1_NC.003\",\n",
    "    layer=\"SRTMGL1_DEM\",\n",
    "    start_date=\"02-11\",\n",
    "    end_date=\"02-21\",\n",
    "    recurring=True,\n",
    "    year_range=[2000, 2000],\n",
    "    polygon=select_grassland_gdf,\n",
    ")\n",
    "\n",
    "# Download files if the download directory does not exist\n",
    "if not os.path.exists(elevation_downloader.data_dir):\n",
    "    elevation_downloader.download_files()"
   ]
  },
  {
   "cell_type": "code",
   "execution_count": null,
   "metadata": {},
   "outputs": [],
   "source": []
  },
  {
   "cell_type": "markdown",
   "metadata": {},
   "source": [
    "### Data Citations\n",
    "NASA JPL (2013). NASA Shuttle Radar Topography Mission Global 1 arc second [Data set]. NASA EOSDIS Land Processes Distributed Active Archive Center. Accessed 2023-12-05 from https://doi.org/10.5067/MEaSUREs/SRTM/SRTMGL1.003\n"
   ]
  }
 ],
 "metadata": {
  "kernelspec": {
   "display_name": "base",
   "language": "python",
   "name": "python3"
  },
  "language_info": {
   "codemirror_mode": {
    "name": "ipython",
    "version": 3
   },
   "file_extension": ".py",
   "mimetype": "text/x-python",
   "name": "python",
   "nbconvert_exporter": "python",
   "pygments_lexer": "ipython3",
   "version": "3.10.11"
  }
 },
 "nbformat": 4,
 "nbformat_minor": 2
}
