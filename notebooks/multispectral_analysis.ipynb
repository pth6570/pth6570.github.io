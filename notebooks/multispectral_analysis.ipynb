{
 "cells": [
  {
   "cell_type": "markdown",
   "metadata": {},
   "source": [
    "### Parks in Washington DC\n",
    "* Washington, DC is a city of around 670,000 people (U.S. Census, 2022). While Washington, DC is an urban area, parks comprise approximately 20% of the land in Washington, DC. The city has a goal of a city-wide goal of over 40% tree canopy cover by 2035 (National Capital Planning Commission, n.d.). For more information on Washington, D.C. parks see: https://www.ncpc.gov/docs/CapitalSpace_Washingtons_Parks_and_Open_Space.pdf\n",
    "\n",
    "* Washington DC is often regarded as having on of the best park systems in the country. It has consistently scored highly in the The Trust for Public Land (TPL)'s ratings for park access and park equity (The Public Land Trust, 2022; Patino & Poon, 2021). \n",
    "\n",
    "* However, others have also noted variations across the city in park size, quality, and tree coverage. Large parks with greater tree coverage tended to be further from areas with higher housing density (Urban Institute, 2022). Others have pointed to poor maintainence and inadequte resources in DC's neighborhood parks, due in part to federal control of the D.C. park system, which leaves D.C. parks competing with national parks for resources (Pusatory & Henry, 2023;  GWToday.com, 2023).\n",
    "\n",
    "<figure style=\"display: inline-block;  padding-left:100px; padding-bottom:20px; margin-bottom:20px\">\n",
    "    <img alt=\"Kenilworth Aquatic Gardens\" src=\"https://upload.wikimedia.org/wikipedia/commons/6/65/Kenilworth_Aquatic_Gardens%2C_Washington%2C_D.C.jpg\" style=\"float:center; height: 200px; vertical-align: top;\"/>\n",
    "    <figcaption style=\"text-align: center; height: 20px; vertical-align: top\" > Kenilworth Aquatic Garden\n",
    "        <br><a href=\"https://upload.wikimedia.org/wikipedia/commons/6/65/Kenilworth_Aquatic_Gardens%2C_Washington%2C_D.C.jpg\">Judy Gallagher</a>, CC by 2.0, via Wikimedia Commons\n",
    "        </figcaption>\n",
    "</figure>\n",
    "\n",
    "<figure style=\"display: inline-block; padding-bottom:20px; margin-bottom:20px\">\n",
    "    <img src=\"https://live.staticflickr.com/3024/2995931336_78f99eb20a_3k.jpg\" style=\"float:left; height: 200px; vertical-align: top;\" alt='missing'/>\n",
    "    <figcaption style=\"text-align: center; height: 20px; vertical-align: top\" >Rock Creek Park\n",
    "        <br>Source: <a href=\"https://www.flickr.com/photos/dionhinchcliffe/2995931336\"> Dion Hinchcliffe</a>, CC by 2.0, via Flickr\n",
    "        </figcaption>\n",
    "</figure>\n",
    "\n",
    "\n",
    "### NDVI In Washington DC Neighborhood Clusters\n",
    "* This project uses National Agriculture Imagery Program (NAIP) data to examine NDVI in Washington, DC neighborhood clusters.\n",
    "* Normalizaed Difference Vegetation Index (NDVI) is a value that reflects the relative amounts of red and near infrared light reflected in a location. Higher NDVI values indicate there is more healthy vegetation present.\n",
    "* Data on neighborhood clusters was obtained from the Washington DC Open Data website. NAIP data was downloaded and merged for each neighborhood cluster. NDVI summary statistics were calculated.\n",
    "* The neighborhood cluster for the National Mall and the Potomac River was omitted due to the number of NAIP images associated with this cluster (n=18). I was unable to successfully merge the data for this cluster due to the number of images."
   ]
  },
  {
   "cell_type": "markdown",
   "metadata": {},
   "source": [
    "<figure style=\"display: inline-block;  padding-left:100px; padding-bottom:0px\">\n",
    "    <img alt=\"Kenilworth Aquatic Gardens\" src=\"https://live.staticflickr.com/65535/51146464327_adc103a3a4_3k.jpg\" style=\"float:center; width: 650px; vertical-align: top;\"/>\n",
    "    <figcaption style=\"text-align: center; width: 650px; vertical-align: top\" > National Arboretum\n",
    "        <br><a href=\"https://www.flickr.com/photos/22711505@N05/51146464327\">Ron Cogswell</a>, CC by 2.0, via Wikimedia Commons\n",
    "        </figcaption>\n",
    "</figure>"
   ]
  },
  {
   "cell_type": "code",
   "execution_count": 1,
   "metadata": {
    "deletable": false,
    "extensions": {
     "jupyter_dashboards": {
      "version": 1,
      "views": {
       "grid_default": {},
       "report_default": {
        "hidden": true
       }
      }
     }
    },
    "nbgrader": {
     "cell_type": "code",
     "checksum": "62e02a7624d7768be1e0d7717d4b33d6",
     "grade": false,
     "grade_id": "ans-imports",
     "locked": false,
     "schema_version": 3,
     "solution": true,
     "task": false
    },
    "tags": [
     "hide"
    ]
   },
   "outputs": [],
   "source": [
    "# Import Libraries\n",
    "import os\n",
    "from glob import glob\n",
    "\n",
    "import earthpy as et\n",
    "import earthpy.earthexplorer as etee\n",
    "import geopandas as gpd \n",
    "import geoviews as gv\n",
    "import holoviews as hv\n",
    "import pandas as pd\n",
    "import numpy as np\n",
    "import rioxarray as rxr\n",
    "import rioxarray.merge as rxrmerge\n",
    "import shutil\n",
    "from bokeh.models import HoverTool\n"
   ]
  },
  {
   "cell_type": "code",
   "execution_count": 2,
   "metadata": {},
   "outputs": [],
   "source": [
    "# Define Data Directories for Project\n",
    "data_dir = os.path.join(et.io.HOME, et.io.DATA_NAME)\n",
    "dc_dir = os.path.join(data_dir, 'dc-neighborhoods')\n",
    "ndvi_dir = os.path.join(data_dir, 'dc-green-space', 'processed')\n",
    "\n",
    "# Check is file directory exists and if not, create it\n",
    "for file_dir in [dc_dir, ndvi_dir]:\n",
    "    if not os.path.exists(file_dir):\n",
    "        os.makedirs()"
   ]
  },
  {
   "cell_type": "code",
   "execution_count": 3,
   "metadata": {},
   "outputs": [],
   "source": [
    "# Save url for DC Neighborhood boundaries\n",
    "dc_url = (\"https://maps2.dcgis.dc.gov/dcgis/rest/services/DCGIS_DATA/\"\n",
    "           \"Administrative_Other_Boundaries_WebMercator/MapServer/17/\"\n",
    "           \"query?outFields=*&where=1%3D1&f=geojson\")\n",
    "\n",
    "# Get DC Neighborhood Boundaries as a Shapefiles\n",
    "dc_nbd_gdf = gpd.read_file(dc_url)\n"
   ]
  },
  {
   "cell_type": "code",
   "execution_count": 4,
   "metadata": {
    "deletable": false,
    "nbgrader": {
     "cell_type": "code",
     "checksum": "1ea109f4d72fe9c96476d2989bc797d3",
     "grade": false,
     "grade_id": "ans-download-neighborhoods",
     "locked": false,
     "schema_version": 3,
     "solution": true,
     "task": false
    }
   },
   "outputs": [],
   "source": [
    "# Define path to DC Neighborhood Data\n",
    "dc_path = os.path.join(dc_dir, 'dc-neighborhood.geojson')\n",
    "\n",
    "\n",
    "# If the data does not already exist, save data to directory\n",
    "if not os.path.exists(dc_path):\n",
    "    # Save url for DC Neighborhood boundaries\n",
    "    dc_url = (\"https://maps2.dcgis.dc.gov/dcgis/rest/services/DCGIS_DATA/\"\n",
    "            \"Administrative_Other_Boundaries_WebMercator/MapServer/17/\"\n",
    "            \"query?outFields=*&where=1%3D1&f=geojson\"\n",
    "    )\n",
    "    # Save DC neighborhood data to a file\n",
    "    gpd.read_file(dc_url).to_file(dc_path)\n",
    "\n",
    "# Create Geodatabase of DC Neighborhood Data\n",
    "dc_gdf = gpd.read_file(dc_path).set_index(\"NAME\")\n",
    "\n",
    "# Select Two Clusters for Testing Data\n",
    "neigh_gdf = (\n",
    "    dc_gdf\n",
    "    .loc[[\"Cluster 9\", \"Cluster 31\"]]\n",
    ")"
   ]
  },
  {
   "cell_type": "code",
   "execution_count": 5,
   "metadata": {
    "deletable": false,
    "nbgrader": {
     "cell_type": "code",
     "checksum": "7be14fe3d75462ced1803cf9a1a52cf2",
     "grade": false,
     "grade_id": "ans-download",
     "locked": false,
     "schema_version": 3,
     "solution": true,
     "task": false
    }
   },
   "outputs": [],
   "source": [
    "def download_neighborhood_data(name, geometry, start, end):\n",
    "    \"\"\"\n",
    "    Download NAIP raster for a given geometry, start date, and end date\n",
    "\n",
    "    Downloads data from the National Agricultural Imagery Program (NAIP)\n",
    "    given a spatial and temporal extent.\n",
    "    <citation>\n",
    "\n",
    "    Parameters\n",
    "    ==========\n",
    "    name : str\n",
    "      The name used to label the download\n",
    "    geometry : shapely.POLYGON\n",
    "      The geometry to derive the download extent from. \n",
    "      Must have a `.bounds` attribute.\n",
    "    start : str\n",
    "      The start date as 'YYYY-MM-DD'\n",
    "    end : str\n",
    "      The end date as 'YYYY-MM-DD'\n",
    "\n",
    "    Returns\n",
    "    =======\n",
    "    downloader : earthpy.earthexplorer.EarthExplorerDownloader\n",
    "      Object with information about the download, including the data directory.\n",
    "    \"\"\"\n",
    "    print(f'Neighborhood Name: {name}')\n",
    "    # Create bounding box\n",
    "    bbox = etee.BBox(*geometry.bounds)\n",
    "    # Create downloader\n",
    "    naip_downloader = etee.EarthExplorerDownloader(\n",
    "        dataset=\"NAIP\", \n",
    "        label=name.lower().replace(\" \", \"-\"),\n",
    "        bbox=bbox,\n",
    "        start=start,\n",
    "        end=end,\n",
    "        store_credential=True)\n",
    "    # Request and download data\n",
    "    naip_downloader.submit_download_request()\n",
    "    naip_downloader.download(override=False)\n",
    "    return naip_downloader\n",
    "\n",
    "ndvi_stats_path = os.path.join(ndvi_dir, 'neighborhood-ndvi-stats.csv')\n",
    "if os.path.exists(ndvi_stats_path):\n",
    "  ndvi_stats_df = pd.read_csv(ndvi_stats_path, index_col=\"neighborhood\")\n",
    "else:\n",
    "  print('NDVI Statistics File does not exist...')\n",
    "  ndvi_stats_df = pd.DataFrame()\n",
    "\n",
    "# # Run to test\n",
    "# for neighborhood_name, details in neigh_gdf.iterrows():\n",
    "#     if neighborhood_name in ndvi_stats_df.index:\n",
    "#       print(\"Neighborhood stats have already been calculated. Skipping\")\n",
    "#       continue\n",
    "    \n",
    "#     downloader = download_neighborhood_data(\n",
    "#        neighborhood_name, details.geometry, '2021-01-01', '2021-12-31')"
   ]
  },
  {
   "cell_type": "code",
   "execution_count": 6,
   "metadata": {
    "deletable": false,
    "nbgrader": {
     "cell_type": "code",
     "checksum": "92ce6ede0b1456b0cc52aead0b3de308",
     "grade": false,
     "grade_id": "ans-merge",
     "locked": false,
     "schema_version": 3,
     "solution": true,
     "task": false
    }
   },
   "outputs": [],
   "source": [
    "def load_and_merge_arrays(name):\n",
    "    \"\"\"\n",
    "    Load in and merge downloaded arrays\n",
    "    \n",
    "    Parameters\n",
    "    ==========\n",
    "    name : str\n",
    "        The name used to label the download\n",
    "    \n",
    "    Returns\n",
    "    =======\n",
    "    merge_da : rxr.DataArray\n",
    "        Data array with merged data.\n",
    "    \"\"\"\n",
    "    # Merge data for each neighborhood\n",
    "    print(f'\\nNeighborhood Name: {name}')\n",
    "    data_path = os.path.join(\n",
    "        et.io.HOME, et.io.DATA_NAME,\n",
    "        name.lower().replace(' ', '-'))\n",
    "    # Define paths to tif data\n",
    "    tif_paths = glob(os.path.join(data_path, '*.tif'))\n",
    "    # Load tifs\n",
    "    das = [rxr.open_rasterio(tp, masked=True) for tp in tif_paths]\n",
    "    # Merge arrays\n",
    "    merged_da = rxrmerge.merge_arrays(das)\n",
    "    return merged_da\n",
    "\n",
    "# # Run to test\n",
    "# merged_da = load_and_merge_arrays('Cluster 9')\n",
    "# merged_da"
   ]
  },
  {
   "cell_type": "code",
   "execution_count": 7,
   "metadata": {
    "deletable": false,
    "nbgrader": {
     "cell_type": "code",
     "checksum": "96b502b32233419baede0d41d49b1762",
     "grade": false,
     "grade_id": "ans-ndvi",
     "locked": false,
     "schema_version": 3,
     "solution": true,
     "task": false
    }
   },
   "outputs": [],
   "source": [
    "# Function to compute NDVI summary statistics\n",
    "def calculate_ndvi_stats(gdf, da, stats_path, override=False):\n",
    "    \"\"\"\n",
    "    Calculate NDVI summary statistics and save to statistics file\n",
    "\n",
    "    Uses downloaded National Agricultural Imagery Program (NAIP) data.\n",
    "\n",
    "    Parameters\n",
    "    ==========\n",
    "    gdf : [gpd.GeoDataFrame]\n",
    "        Single row with the neighborhood name and boundary\n",
    "    da : rxr.DataArray\n",
    "        Multispectral raster data from NAIP\n",
    "    stats_path : pathlike\n",
    "        The path to the statistics file to save results\n",
    "    \"\"\"\n",
    "    name = str(gdf.index[0])\n",
    "    print(f\"\\nNeighborhood Name: {name}\")\n",
    "\n",
    "    file_is_empty = True\n",
    "    if os.path.exists(stats_path):\n",
    "        print(\"Stats file exists.\")\n",
    "        stats_df = pd.read_csv(stats_path)\n",
    "        with open(stats_path, \"r\") as stats_file:\n",
    "            file_is_empty = len(stats_file.read()) == 0\n",
    "            print(f\"Stats file is empty? {file_is_empty}\")\n",
    "\n",
    "            if not file_is_empty:\n",
    "                if name in list(stats_df.neighborhood) and (not override):\n",
    "                    print(\"Stats already calculated. Skipping...\")\n",
    "                    return\n",
    "\n",
    "    # Create gdf for neighborhood\n",
    "    reprojected_gdf = gdf.to_crs(da.rio.crs)\n",
    "    # Crop NAIP data array to the neighborhood\n",
    "    naip_crop_da = da.rio.clip_box(*reprojected_gdf.total_bounds)\n",
    "    naip_da = naip_crop_da.rio.clip(reprojected_gdf.geometry)\n",
    "\n",
    "    mode = \"w\" if file_is_empty else \"a\"\n",
    "    # Calculate NDVI\n",
    "    ndvi_da = (da.sel(band=4) - da.sel(band=1)) / (da.sel(band=4) + da.sel(band=1))\n",
    "    print(\"Writing stats to file\")\n",
    "    file_is_empty = not os.path.exists(stats_path)\n",
    "    # Calculate summary statistics\n",
    "    pd.DataFrame(\n",
    "        dict(\n",
    "            neighborhood=[name],\n",
    "            ndvi_25pctl=[np.nanpercentile(ndvi_da, 25)],\n",
    "            ndvi_75pctl=[np.nanpercentile(ndvi_da, 75)],\n",
    "            ndvi_mean=[float(ndvi_da.mean())],\n",
    "            ndvi_std=[float(ndvi_da.std())],\n",
    "            ndvi_median=[float(ndvi_da.median())],\n",
    "            ndvi_min=[float(ndvi_da.min())],\n",
    "            ndvi_max=[float(ndvi_da.max())]\n",
    "        )\n",
    "    ).to_csv(stats_path, mode=mode, header=file_is_empty, index=False)\n",
    "\n",
    "\n",
    "# Run to test\n",
    "# calculate_ndvi_stats(dc_gdf.loc[['Lincoln Park']], merged_da, ndvi_stats_path)"
   ]
  },
  {
   "cell_type": "code",
   "execution_count": 8,
   "metadata": {},
   "outputs": [],
   "source": [
    "# Dropping Cluster 45 (River and National Mall; there were 18 .tif files \n",
    "# and I was never able to get the merge step to go through without crashing)\n",
    "dc_gdf = dc_gdf.drop('Cluster 45')"
   ]
  },
  {
   "cell_type": "code",
   "execution_count": 9,
   "metadata": {
    "deletable": false,
    "nbgrader": {
     "cell_type": "code",
     "checksum": "1a65a37500bd48e50dd4207d04090d3d",
     "grade": false,
     "grade_id": "ans-loop",
     "locked": false,
     "schema_version": 3,
     "solution": true,
     "task": false
    }
   },
   "outputs": [],
   "source": [
    "# Redefine NDVI stats path\n",
    "ndvi_stats_path = os.path.join(ndvi_dir, 'neighborhood-ndvi-stats.csv')\n",
    "\n",
    "# Loop through all DC neighborhoods to download data, merge data,\n",
    "# and calculate NDVI statistics using functions\n",
    "for neighborhood_name, details in dc_gdf.iterrows():\n",
    "    if not os.path.exists(ndvi_stats_path):\n",
    "        print('NDVI statistics file does not exist...')\n",
    "        ndvi_stats_df = pd.DataFrame()\n",
    "    else:\n",
    "        ndvi_stats_df = pd.read_csv(ndvi_stats_path, index_col='neighborhood')\n",
    "        \n",
    "    if neighborhood_name in ndvi_stats_df.index:\n",
    "      # print(\"Neighborhood stats have already been calculated. Skipping\")\n",
    "      continue\n",
    "        \n",
    "    downloader = download_neighborhood_data(\n",
    "        neighborhood_name, details.geometry, '2021-01-01', '2021-12-31')\n",
    "    merged_da = load_and_merge_arrays(neighborhood_name)\n",
    "    calculate_ndvi_stats(\n",
    "        dc_gdf.loc[[neighborhood_name]], merged_da, ndvi_stats_path)\n",
    "    \n",
    "    shutil.rmtree(downloader.data_dir)"
   ]
  },
  {
   "cell_type": "code",
   "execution_count": 10,
   "metadata": {},
   "outputs": [],
   "source": [
    "# Create local copy of csv file in repository\n",
    "shutil.copyfile(ndvi_stats_path, \"ndvi_summary_stats.csv\")\n",
    "None"
   ]
  },
  {
   "cell_type": "code",
   "execution_count": 11,
   "metadata": {},
   "outputs": [],
   "source": [
    "# Read in NDVI Summary Statistics\n",
    "ndvi_stats_df = pd.read_csv(ndvi_stats_path, index_col=\"neighborhood\")\n",
    "\n",
    "# Create copy of Neighborhood name for use in hover tool\n",
    "joined_dc_df = dc_gdf.join(ndvi_stats_df, how=\"left\")\n",
    "joined_dc_df['name'] = joined_dc_df.index\n",
    "\n",
    "# Define hover tool for Choropleth\n",
    "tooltips = [\n",
    "    ('Neighborhood Cluster', '@name'),\n",
    "    ('Neighborhood Names', '@NBH_NAMES'),\n",
    "    ('NDVI', '@ndvi_mean')\n",
    "]\n",
    "hover = HoverTool(tooltips=tooltips)\n",
    "\n",
    "# Create Choropleth of NDVI Statistics\n",
    "choropleth = gv.Polygons(\n",
    "    joined_dc_df,\n",
    "    vdims=['ndvi_mean', 'name', 'NBH_NAMES']\n",
    ").opts(cmap=\"RdYlGn\",\n",
    "       title=\"NDVI in Washington, DC Neighborhoods\",\n",
    "       xaxis=None,\n",
    "       yaxis=None,\n",
    "       colorbar=True, \n",
    "       colorbar_position=\"right\",\n",
    "       tools=[hover],\n",
    "       width=600,\n",
    "       height=350) * gv.tile_sources.CartoLight \n",
    "\n",
    "# Save Chloropleth to HTML\n",
    "hv.save(choropleth, 'dc_ndvi_choropleth.html')\n",
    "\n"
   ]
  },
  {
   "cell_type": "markdown",
   "metadata": {},
   "source": [
    "### Summary of NDVI in DC Neighborhoods\n",
    "* A map of NDVI in DC neighborhoods can be viewed at [the following page](https://pth6570.github.io/notebooks/dc_ndvi_choropleth.html).\n",
    "* NDVI is lowest in the central areas of Washington, D.C.\n",
    "* Neighborhoods near the edages of DC tend to have higher NDVI values.\n",
    "\n",
    "### Data Citation:\n",
    "\n",
    "\n",
    "### Citations:\n",
    "* Pusatory, M. & Henry, J. (2023, May 25). DC named best big-city park system, but some say data is skewed. WUSA90. Retrieved November 25 from https://www.wusa9.com/article/tech/science/environment/dc-named-best-big-city-park-system-push-back/65-a919748b-4244-4ece-9977-d1c96ed35e5c\n",
    "* GWToday.com (2023, May 8) Report Finds U.S. Control of D.C. Parks Exacerbates Inequities in the City. Retrieved November 25, 2023 from: https://gwtoday.gwu.edu/report-finds-us-control-dc-parks-exacerbates-inequities-city\n",
    "* Patino, M. & Poon, L. (2021, May 27). The Inequality of American Parks. Bloomberg.com. Retrieved November 25, 2023 from: https://www.bloomberg.com/news/articles/2021-05-27/the-cities-where-people-of-color-can-walk-to-a-park\n",
    "* The Public Land Trust (2022, May 30). Washington, DC, Named Best Big City Park System in USA, Lifted by Strong Scores for Park Access and Park Equity. Retrieved November 24, 2023 from: https://www.tpl.org/media-room/washington-dc-named-best-big-city-park-system-usa-lifted-strong-scores-park-access-and\n",
    "* Urban Institute (2022, August 18). “Not All Parks Are Created Equal”: How Communities Can Ensure Parks Are Accessible for All Residents. Retrieved November 24, 2023 from: https://housingmatters.urban.org/feature/not-all-parks-are-created-equal-how-communities-can-ensure-parks-are-accessible-all\n",
    "* National Capital Planning Commission (n.d.). About Washington’s Parks and Open Space. Retrieved November 25, 2023 from: https://www.ncpc.gov/docs/CapitalSpace_Washingtons_Parks_and_Open_Space.pdf"
   ]
  },
  {
   "cell_type": "code",
   "execution_count": 12,
   "metadata": {},
   "outputs": [],
   "source": [
    "%%capture\n",
    "%%bash\n",
    "jupyter nbconvert multispectral_analysis.ipynb --to html --no-input"
   ]
  }
 ],
 "metadata": {
  "extensions": {
   "jupyter_dashboards": {
    "activeView": "report_default",
    "version": 1,
    "views": {
     "grid_default": {
      "name": "grid",
      "type": "grid"
     },
     "report_default": {
      "name": "report",
      "type": "report"
     }
    }
   }
  },
  "kernelspec": {
   "display_name": "Python 3 (ipykernel)",
   "language": "python",
   "name": "python3"
  },
  "language_info": {
   "codemirror_mode": {
    "name": "ipython",
    "version": 3
   },
   "file_extension": ".py",
   "mimetype": "text/x-python",
   "name": "python",
   "nbconvert_exporter": "python",
   "pygments_lexer": "ipython3",
   "version": "3.10.11"
  },
  "toc": {
   "base_numbering": 1,
   "nav_menu": {},
   "number_sections": true,
   "sideBar": true,
   "skip_h1_title": false,
   "title_cell": "Table of Contents",
   "title_sidebar": "Contents",
   "toc_cell": false,
   "toc_position": {
    "height": "calc(100% - 180px)",
    "left": "10px",
    "top": "150px",
    "width": "249.4px"
   },
   "toc_section_display": true,
   "toc_window_display": true
  },
  "varInspector": {
   "cols": {
    "lenName": 16,
    "lenType": 16,
    "lenVar": 40
   },
   "kernels_config": {
    "python": {
     "delete_cmd_postfix": "",
     "delete_cmd_prefix": "del ",
     "library": "var_list.py",
     "varRefreshCmd": "print(var_dic_list())"
    },
    "r": {
     "delete_cmd_postfix": ") ",
     "delete_cmd_prefix": "rm(",
     "library": "var_list.r",
     "varRefreshCmd": "cat(var_dic_list()) "
    }
   },
   "types_to_exclude": [
    "module",
    "function",
    "builtin_function_or_method",
    "instance",
    "_Feature"
   ],
   "window_display": false
  }
 },
 "nbformat": 4,
 "nbformat_minor": 4
}
